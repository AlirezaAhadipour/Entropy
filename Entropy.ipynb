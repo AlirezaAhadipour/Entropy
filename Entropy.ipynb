{
  "nbformat": 4,
  "nbformat_minor": 0,
  "metadata": {
    "colab": {
      "provenance": [],
      "authorship_tag": "ABX9TyPwhvCiZ9EuY526CFaXT5d/",
      "include_colab_link": true
    },
    "kernelspec": {
      "name": "python3",
      "display_name": "Python 3"
    },
    "language_info": {
      "name": "python"
    }
  },
  "cells": [
    {
      "cell_type": "markdown",
      "metadata": {
        "id": "view-in-github",
        "colab_type": "text"
      },
      "source": [
        "<a href=\"https://colab.research.google.com/github/AlirezaAhadipour/Entropy/blob/main/Entropy.ipynb\" target=\"_parent\"><img src=\"https://colab.research.google.com/assets/colab-badge.svg\" alt=\"Open In Colab\"/></a>"
      ]
    },
    {
      "cell_type": "markdown",
      "source": [
        "# Approximate Entropy"
      ],
      "metadata": {
        "id": "lGBaDZkt_YSq"
      }
    },
    {
      "cell_type": "code",
      "execution_count": 1,
      "metadata": {
        "id": "_YALfGuY_Vcr"
      },
      "outputs": [],
      "source": [
        "import numpy as np\n",
        "\n",
        "def approx_entropy(U, m, r) -> float:\n",
        "    \"\"\"Return the Approximate Entropy (ApEn)!\"\"\"\n",
        "    N = len(U)\n",
        "\n",
        "    def max_dist(x_i, x_j):\n",
        "        return max(abs(x - y) for x, y in zip(x_i, x_j))\n",
        "\n",
        "    def phi(m):\n",
        "        n = N - m + 1\n",
        "        x = [[U[j] for j in range(i, i + m - 1 + 1)] for i in range(n)]\n",
        "        C = [len([1 for x_j in x if max_dist(x_i, x_j) <= r]) / n for x_i in x]\n",
        "\n",
        "        return sum(np.log(C)) / n\n",
        "\n",
        "    return abs(phi(m + 1) - phi(m))"
      ]
    },
    {
      "cell_type": "code",
      "source": [
        "U = [1, 0, 1, 0, 1, 0, 1, 0, 1, 0]   # deterministic\n",
        "m = 2\n",
        "r = 0.2\n",
        "\n",
        "approx_entropy(U, m, r)"
      ],
      "metadata": {
        "colab": {
          "base_uri": "https://localhost:8080/"
        },
        "id": "kN4cfWKnBIW0",
        "outputId": "1fe1918a-fb59-49a3-949b-6c68e974fbf0"
      },
      "execution_count": 2,
      "outputs": [
        {
          "output_type": "execute_result",
          "data": {
            "text/plain": [
              "0.006185603962621911"
            ]
          },
          "metadata": {},
          "execution_count": 2
        }
      ]
    },
    {
      "cell_type": "code",
      "source": [
        "U = np.random.randint(2, size=10)  # random\n",
        "m = 2\n",
        "r = 0.2\n",
        "\n",
        "approx_entropy(U, m, r)"
      ],
      "metadata": {
        "colab": {
          "base_uri": "https://localhost:8080/"
        },
        "id": "20zpO-a9Czro",
        "outputId": "c5c1e28c-3771-41b9-82bb-8ca224df876e"
      },
      "execution_count": 3,
      "outputs": [
        {
          "output_type": "execute_result",
          "data": {
            "text/plain": [
              "0.4598396148102373"
            ]
          },
          "metadata": {},
          "execution_count": 3
        }
      ]
    }
  ]
}